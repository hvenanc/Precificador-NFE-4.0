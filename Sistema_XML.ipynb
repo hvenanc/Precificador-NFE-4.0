{
  "nbformat": 4,
  "nbformat_minor": 0,
  "metadata": {
    "colab": {
      "provenance": [],
      "authorship_tag": "ABX9TyMqp3CIGdQp+KFmn1BpNO6e",
      "include_colab_link": true
    },
    "kernelspec": {
      "name": "python3",
      "display_name": "Python 3"
    },
    "language_info": {
      "name": "python"
    }
  },
  "cells": [
    {
      "cell_type": "markdown",
      "metadata": {
        "id": "view-in-github",
        "colab_type": "text"
      },
      "source": [
        "<a href=\"https://colab.research.google.com/github/hvenanc/Precificador-NFE-4.0/blob/main/Sistema_XML.ipynb\" target=\"_parent\"><img src=\"https://colab.research.google.com/assets/colab-badge.svg\" alt=\"Open In Colab\"/></a>"
      ]
    },
    {
      "cell_type": "code",
      "execution_count": 311,
      "metadata": {
        "colab": {
          "base_uri": "https://localhost:8080/"
        },
        "id": "e-WpJWogkxHf",
        "outputId": "67a1ab4b-8ee1-47c1-bd46-17d12050c6e0"
      },
      "outputs": [
        {
          "output_type": "stream",
          "name": "stdout",
          "text": [
            "Drive already mounted at /content/drive; to attempt to forcibly remount, call drive.mount(\"/content/drive\", force_remount=True).\n"
          ]
        }
      ],
      "source": [
        "from google.colab import drive\n",
        "drive.mount('/content/drive')"
      ]
    },
    {
      "cell_type": "markdown",
      "source": [
        "# Dicionário de TAGS do XML\n",
        "\n",
        "### - cProd : Código do Fornecedor\n",
        "### - cEAN : EAN do Produto, em alguns casos é o EAN da Caixa do Produto\n",
        "### - xProd: Nome do Produto\n",
        "### - NCM: Código NCM do produto\n",
        "### - vUnCom: Valor unitário do produto\n",
        "### - uCom : Unidade comercializada\n",
        "### - qCom : Quantidade comercializada\n",
        "### - CST : Código de Situação Tributária, define quais produtos possuem substituuição tributária: CSOSN: 201 - ST Simples Nacional e CST 10 - ST Regime Normal.\n",
        "### - vICMSST: Valor da ST.\n",
        "### - pICMS: Alíquota ICMS\n",
        "### - vIPI: Define o valor do IPI."
      ],
      "metadata": {
        "id": "kJo8YQPN0SAV"
      }
    },
    {
      "cell_type": "code",
      "source": [
        "import xml.etree.ElementTree as ET\n",
        "from xml.dom import minidom"
      ],
      "metadata": {
        "id": "ZeqrdloNk1Bm"
      },
      "execution_count": 312,
      "outputs": []
    },
    {
      "cell_type": "code",
      "source": [
        "xml = open('/content/drive/MyDrive/Python + XML/XMLS/atlas.xml')\n",
        "nfe = minidom.parse(xml)"
      ],
      "metadata": {
        "id": "G2piVUk7k3oF"
      },
      "execution_count": 313,
      "outputs": []
    },
    {
      "cell_type": "code",
      "source": [
        "num_nfe = nfe.getElementsByTagName('nNF')\n",
        "n_NFE = num_nfe[0].firstChild.data\n",
        "print(n_NFE)"
      ],
      "metadata": {
        "colab": {
          "base_uri": "https://localhost:8080/"
        },
        "id": "qUHt1ggSk4n6",
        "outputId": "891b7b01-294f-4c19-82bf-c0f3bcfb3cc0"
      },
      "execution_count": 314,
      "outputs": [
        {
          "output_type": "stream",
          "name": "stdout",
          "text": [
            "208586\n"
          ]
        }
      ]
    },
    {
      "cell_type": "code",
      "source": [
        "#Funções \n",
        "\n",
        "#Função que varre dados do tipo text do xml e insere em uma lista de string.\n",
        "def nodeText(tag,nfe):\n",
        "\n",
        "  dados = []\n",
        "  item = nfe.getElementsByTagName(tag)\n",
        "\n",
        "  for x in item:\n",
        "    dados.append(x.firstChild.data)\n",
        "  \n",
        "  return dados\n",
        "\n",
        "#Função que varre dados do tipo number do xml e insere em uma lista de float.\n",
        "def nodeNumber(tag,nfe):\n",
        "\n",
        "  dados = []\n",
        "  item = nfe.getElementsByTagName(tag)\n",
        "\n",
        "  for x in item:\n",
        "    dados.append(float(x.firstChild.data))\n",
        "\n",
        "  return dados\n",
        "\n",
        "#Função que completa com o 0 as posições do produtos sem substituição tributária\n",
        "\n",
        "def listaST(lista1,lista2):\n",
        "\n",
        "  a = len(lista1) - len(lista2)\n",
        "\n",
        "  while(a != 0):\n",
        "    lista2.append(0)\n",
        "    a-=1\n",
        "\n",
        "  x = 0\n",
        "  y = 0\n",
        "  subsTrib = []\n",
        "  \n",
        "  while(x < len(lista1)):\n",
        "    if lista1[x] == '201' or lista1[x] == '10':\n",
        "      subsTrib.append(float(lista2[y]))\n",
        "      y+=1\n",
        "    else:\n",
        "      subsTrib.append(float(0))\n",
        "    x+=1\n",
        "\n",
        "  return subsTrib\n",
        "\n",
        "#Criando a lista com o CST apenas da Substituição Tributátia (ST)\n",
        "#Aqui o no ICMS é pai do CST\n",
        "\n",
        "def cstList(lista):\n",
        "  \n",
        "  x = 0\n",
        "  inter = []\n",
        "\n",
        "  while(x<len(lista)):\n",
        "    a = lista[x]\n",
        "    inter.append(a)\n",
        "    x+=4\n",
        "\n",
        "  return inter\n",
        "\n",
        "#Calcula o preço de venda\n",
        "\n",
        "from math import floor\n",
        "def precoVenda(lista,margem):\n",
        "\n",
        "  custo = []\n",
        "  venda = []\n",
        "  x = 0\n",
        "  while(x < len(lista)):\n",
        "    y = (lista[x])/margem\n",
        "    custo.append(round(y,2))\n",
        "    \n",
        "    j = floor(custo[x])\n",
        "    y = round(j)\n",
        "    if (j - y) < 1:\n",
        "      j = j + (0.99 - (j - y))\n",
        "      venda.append(round(j,2))\n",
        "      \n",
        "    x += 1\n",
        "\n",
        "  return venda\n",
        "\n",
        "#Ajustando IPI dos produtos\n",
        "\n",
        "def ipiLista(lista):\n",
        "  x = 1\n",
        "  inter = []\n",
        "\n",
        "  while(x<len(lista)):\n",
        "    a = lista[x]\n",
        "    inter.append(a)\n",
        "    x+=4\n",
        "\n",
        "  return inter\n",
        "\n",
        "def listaIPI(lista1,lista2):\n",
        "\n",
        "  a = len(lista1) - len(lista2)\n",
        "\n",
        "  while(a != 0):\n",
        "    lista2.append(0)\n",
        "    a-=1\n",
        "\n",
        "  x = 0\n",
        "  y = 0\n",
        "  ipi = []\n",
        "  \n",
        "  while(x < len(lista1)):\n",
        "    if lista1[x] == '50':\n",
        "      ipi.append(float(lista2[y]))\n",
        "      y+=1\n",
        "    else:\n",
        "      ipi.append(float(0))\n",
        "    x+=1\n",
        "\n",
        "  return ipi\n"
      ],
      "metadata": {
        "id": "RvDurJ0gk6Ya"
      },
      "execution_count": 315,
      "outputs": []
    },
    {
      "cell_type": "code",
      "source": [
        "#Encontrando o Regime Tributário \n",
        "\n",
        "item = nfe.getElementsByTagName('CSOSN')\n",
        "\n",
        "if len(item) != 0:\n",
        "  codTributacao = nodeText('CSOSN',nfe)\n",
        "  subs = nodeText('vICMSST',nfe)\n",
        "else:\n",
        "  codTributacao = nodeText('CST',nfe)\n",
        "  codTributacao = cstList(codTributacao)\n",
        "  subs = nodeText('vICMSST',nfe)"
      ],
      "metadata": {
        "id": "eyaEyqmAUIWN"
      },
      "execution_count": 316,
      "outputs": []
    },
    {
      "cell_type": "code",
      "source": [
        "#Teste da Chamada da Função\n",
        "x = nodeText('cEAN',nfe)\n",
        "subs"
      ],
      "metadata": {
        "colab": {
          "base_uri": "https://localhost:8080/"
        },
        "id": "b1dCZTMLk9qG",
        "outputId": "671adf98-37af-4359-fa27-73c94d9bdf8a"
      },
      "execution_count": 317,
      "outputs": [
        {
          "output_type": "execute_result",
          "data": {
            "text/plain": [
              "[]"
            ]
          },
          "metadata": {},
          "execution_count": 317
        }
      ]
    },
    {
      "cell_type": "code",
      "source": [
        "#Teste Chamada função do IPI\n",
        "cst = nodeText('CST',nfe)\n",
        "ipi = nodeNumber('vIPI',nfe)\n",
        "cstIpi = ipiLista(cst)\n",
        "listaIPI = listaIPI(cstIpi,ipi[:-1])\n",
        "listaIPI"
      ],
      "metadata": {
        "colab": {
          "base_uri": "https://localhost:8080/"
        },
        "id": "M5isCieAabpC",
        "outputId": "900001fe-2843-479b-edde-040dd222074f"
      },
      "execution_count": 318,
      "outputs": [
        {
          "output_type": "execute_result",
          "data": {
            "text/plain": [
              "[10.35]"
            ]
          },
          "metadata": {},
          "execution_count": 318
        }
      ]
    },
    {
      "cell_type": "code",
      "source": [
        "#Fazendo algumas verificações:\n",
        "\n",
        "#Quantidade de itens NFE\n",
        "\n",
        "qt_itens = len(nodeText('xProd',nfe))\n",
        "qt_itens"
      ],
      "metadata": {
        "colab": {
          "base_uri": "https://localhost:8080/"
        },
        "id": "FnE1QnGjlOfp",
        "outputId": "1e198c4b-3725-43c6-c718-b15953c8e5b2"
      },
      "execution_count": 319,
      "outputs": [
        {
          "output_type": "execute_result",
          "data": {
            "text/plain": [
              "1"
            ]
          },
          "metadata": {},
          "execution_count": 319
        }
      ]
    },
    {
      "cell_type": "code",
      "source": [
        "#Criação do DataFrame\n",
        "\n",
        "import pandas as pd\n",
        "\n",
        "df = pd.DataFrame()\n",
        "df['EAN'] = nodeText('cEAN',nfe)\n",
        "df['Produto'] = nodeText('xProd',nfe)\n",
        "df['Quantidade'] = nodeNumber('qCom',nfe)\n",
        "df['Valor UNIT'] = nodeNumber('vUnCom',nfe)\n",
        "df['NCM'] = nodeText('NCM',nfe)\n",
        "valorT = nodeNumber('vProd',nfe)\n",
        "df['Valor Total'] = valorT[:-1]"
      ],
      "metadata": {
        "id": "bmu89c96pc2E"
      },
      "execution_count": 320,
      "outputs": []
    },
    {
      "cell_type": "code",
      "source": [
        "st = listaST(codTributacao,subs)\n",
        "st\n",
        "if qt_itens == len(st):\n",
        "  df['ST'] = st\n",
        "else:\n",
        "  df['ST'] = 0"
      ],
      "metadata": {
        "id": "K9gOc4KfkFAG"
      },
      "execution_count": 321,
      "outputs": []
    },
    {
      "cell_type": "code",
      "source": [
        "ipi = nodeNumber('vIPI',nfe)\n",
        "ipi\n",
        "if qt_itens == len(listaIPI):\n",
        "  df['IPI'] = listaIPI\n",
        "else:\n",
        "  df['IPI'] = 0"
      ],
      "metadata": {
        "id": "iTYTW2kGkSC-"
      },
      "execution_count": 322,
      "outputs": []
    },
    {
      "cell_type": "code",
      "source": [
        "df['Custo Final'] = df['Valor UNIT'] + ((df['ST']+df['IPI'])/df['Quantidade'])\n",
        "margem = float(input('Insira a margem de lucro: '))\n",
        "df['Preço de Venda'] = precoVenda(list(df['Custo Final']),margem)\n",
        "df"
      ],
      "metadata": {
        "id": "G4wlt4MiR_ii"
      },
      "execution_count": null,
      "outputs": []
    },
    {
      "cell_type": "code",
      "source": [
        "#Gerando planilha no excel\n",
        "\n",
        "df.to_excel('precos.xlsx',sheet_name= f'NFE {n_NFE}',index = False)"
      ],
      "metadata": {
        "id": "ckSWEi-zxSct"
      },
      "execution_count": 324,
      "outputs": []
    }
  ]
}